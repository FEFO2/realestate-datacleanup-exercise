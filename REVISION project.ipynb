{
 "cells": [
  {
   "attachments": {},
   "cell_type": "markdown",
   "id": "innocent-university",
   "metadata": {},
   "source": [
    "# Real Estate Clean up\n",
    "\n",
    "This is a real dataset and it was downloaded using web scraping techniques. The data contains registers from fotocasa which is one of the most popular websites of real estate in Spain. Please, do not do this (web scraping) unless it is for academic purposes.\n",
    "\n",
    "The dataset was downloaded a few years ago by Henry Navarro and In no case were economic returns obtained from it.\n",
    "\n",
    "It contains thousands of data from real houses published on the web www.fotocasa.com. Your goal is to extract as much information as possible with the knowledge you have so far about data science, for example what is the most expensive house in the entire dataset?\n",
    "\n",
    "Let's start with precisely that question... Good luck!"
   ]
  },
  {
   "attachments": {},
   "cell_type": "markdown",
   "id": "multiple-glass",
   "metadata": {},
   "source": [
    "#### Exercise 00. Read the dataset assets/real_estate.csv and try to visualize the table (★☆☆)"
   ]
  },
  {
   "cell_type": "code",
   "execution_count": 2,
   "id": "frank-heath",
   "metadata": {},
   "outputs": [
    {
     "data": {
      "text/html": [
       "<div>\n",
       "<style scoped>\n",
       "    .dataframe tbody tr th:only-of-type {\n",
       "        vertical-align: middle;\n",
       "    }\n",
       "\n",
       "    .dataframe tbody tr th {\n",
       "        vertical-align: top;\n",
       "    }\n",
       "\n",
       "    .dataframe thead th {\n",
       "        text-align: right;\n",
       "    }\n",
       "</style>\n",
       "<table border=\"1\" class=\"dataframe\">\n",
       "  <thead>\n",
       "    <tr style=\"text-align: right;\">\n",
       "      <th></th>\n",
       "      <th>Unnamed: 0</th>\n",
       "      <th>id_realEstates</th>\n",
       "      <th>isNew</th>\n",
       "      <th>realEstate_name</th>\n",
       "      <th>phone_realEstate</th>\n",
       "      <th>url_inmueble</th>\n",
       "      <th>rooms</th>\n",
       "      <th>bathrooms</th>\n",
       "      <th>surface</th>\n",
       "      <th>price</th>\n",
       "      <th>...</th>\n",
       "      <th>level4Id</th>\n",
       "      <th>level5Id</th>\n",
       "      <th>level6Id</th>\n",
       "      <th>level7Id</th>\n",
       "      <th>level8Id</th>\n",
       "      <th>accuracy</th>\n",
       "      <th>latitude</th>\n",
       "      <th>longitude</th>\n",
       "      <th>zipCode</th>\n",
       "      <th>customZone</th>\n",
       "    </tr>\n",
       "  </thead>\n",
       "  <tbody>\n",
       "    <tr>\n",
       "      <th>0</th>\n",
       "      <td>1</td>\n",
       "      <td>153771986</td>\n",
       "      <td>False</td>\n",
       "      <td>ferrari 57 inmobiliaria</td>\n",
       "      <td>912177526.0</td>\n",
       "      <td>https://www.fotocasa.es/es/comprar/vivienda/ma...</td>\n",
       "      <td>3.0</td>\n",
       "      <td>2.0</td>\n",
       "      <td>103.0</td>\n",
       "      <td>195000</td>\n",
       "      <td>...</td>\n",
       "      <td>0</td>\n",
       "      <td>0</td>\n",
       "      <td>0</td>\n",
       "      <td>0</td>\n",
       "      <td>0</td>\n",
       "      <td>0</td>\n",
       "      <td>40,2948276786438</td>\n",
       "      <td>-3,44402412135624</td>\n",
       "      <td>NaN</td>\n",
       "      <td>NaN</td>\n",
       "    </tr>\n",
       "    <tr>\n",
       "      <th>1</th>\n",
       "      <td>2</td>\n",
       "      <td>153867863</td>\n",
       "      <td>False</td>\n",
       "      <td>tecnocasa fuenlabrada ferrocarril</td>\n",
       "      <td>916358736.0</td>\n",
       "      <td>https://www.fotocasa.es/es/comprar/vivienda/ma...</td>\n",
       "      <td>3.0</td>\n",
       "      <td>1.0</td>\n",
       "      <td>NaN</td>\n",
       "      <td>89000</td>\n",
       "      <td>...</td>\n",
       "      <td>0</td>\n",
       "      <td>0</td>\n",
       "      <td>0</td>\n",
       "      <td>0</td>\n",
       "      <td>0</td>\n",
       "      <td>1</td>\n",
       "      <td>40,28674</td>\n",
       "      <td>-3,79351</td>\n",
       "      <td>NaN</td>\n",
       "      <td>NaN</td>\n",
       "    </tr>\n",
       "    <tr>\n",
       "      <th>2</th>\n",
       "      <td>3</td>\n",
       "      <td>153430440</td>\n",
       "      <td>False</td>\n",
       "      <td>look find boadilla</td>\n",
       "      <td>916350408.0</td>\n",
       "      <td>https://www.fotocasa.es/es/comprar/vivienda/ma...</td>\n",
       "      <td>2.0</td>\n",
       "      <td>2.0</td>\n",
       "      <td>99.0</td>\n",
       "      <td>390000</td>\n",
       "      <td>...</td>\n",
       "      <td>0</td>\n",
       "      <td>0</td>\n",
       "      <td>0</td>\n",
       "      <td>0</td>\n",
       "      <td>0</td>\n",
       "      <td>0</td>\n",
       "      <td>40,4115646786438</td>\n",
       "      <td>-3,90662252135624</td>\n",
       "      <td>NaN</td>\n",
       "      <td>NaN</td>\n",
       "    </tr>\n",
       "    <tr>\n",
       "      <th>3</th>\n",
       "      <td>4</td>\n",
       "      <td>152776331</td>\n",
       "      <td>False</td>\n",
       "      <td>tecnocasa fuenlabrada ferrocarril</td>\n",
       "      <td>916358736.0</td>\n",
       "      <td>https://www.fotocasa.es/es/comprar/vivienda/ma...</td>\n",
       "      <td>3.0</td>\n",
       "      <td>1.0</td>\n",
       "      <td>86.0</td>\n",
       "      <td>89000</td>\n",
       "      <td>...</td>\n",
       "      <td>0</td>\n",
       "      <td>0</td>\n",
       "      <td>0</td>\n",
       "      <td>0</td>\n",
       "      <td>0</td>\n",
       "      <td>0</td>\n",
       "      <td>40,2853785786438</td>\n",
       "      <td>-3,79508142135624</td>\n",
       "      <td>NaN</td>\n",
       "      <td>NaN</td>\n",
       "    </tr>\n",
       "    <tr>\n",
       "      <th>4</th>\n",
       "      <td>5</td>\n",
       "      <td>153180188</td>\n",
       "      <td>False</td>\n",
       "      <td>ferrari 57 inmobiliaria</td>\n",
       "      <td>912177526.0</td>\n",
       "      <td>https://www.fotocasa.es/es/comprar/vivienda/ma...</td>\n",
       "      <td>2.0</td>\n",
       "      <td>2.0</td>\n",
       "      <td>106.0</td>\n",
       "      <td>172000</td>\n",
       "      <td>...</td>\n",
       "      <td>0</td>\n",
       "      <td>0</td>\n",
       "      <td>0</td>\n",
       "      <td>0</td>\n",
       "      <td>0</td>\n",
       "      <td>0</td>\n",
       "      <td>40,2998774864376</td>\n",
       "      <td>-3,45226301356237</td>\n",
       "      <td>NaN</td>\n",
       "      <td>NaN</td>\n",
       "    </tr>\n",
       "    <tr>\n",
       "      <th>...</th>\n",
       "      <td>...</td>\n",
       "      <td>...</td>\n",
       "      <td>...</td>\n",
       "      <td>...</td>\n",
       "      <td>...</td>\n",
       "      <td>...</td>\n",
       "      <td>...</td>\n",
       "      <td>...</td>\n",
       "      <td>...</td>\n",
       "      <td>...</td>\n",
       "      <td>...</td>\n",
       "      <td>...</td>\n",
       "      <td>...</td>\n",
       "      <td>...</td>\n",
       "      <td>...</td>\n",
       "      <td>...</td>\n",
       "      <td>...</td>\n",
       "      <td>...</td>\n",
       "      <td>...</td>\n",
       "      <td>...</td>\n",
       "      <td>...</td>\n",
       "    </tr>\n",
       "    <tr>\n",
       "      <th>15330</th>\n",
       "      <td>15331</td>\n",
       "      <td>153901377</td>\n",
       "      <td>False</td>\n",
       "      <td>infocasa consulting</td>\n",
       "      <td>911360461.0</td>\n",
       "      <td>https://www.fotocasa.es/es/comprar/vivienda/ma...</td>\n",
       "      <td>2.0</td>\n",
       "      <td>1.0</td>\n",
       "      <td>96.0</td>\n",
       "      <td>259470</td>\n",
       "      <td>...</td>\n",
       "      <td>0</td>\n",
       "      <td>0</td>\n",
       "      <td>0</td>\n",
       "      <td>0</td>\n",
       "      <td>0</td>\n",
       "      <td>0</td>\n",
       "      <td>40,45416</td>\n",
       "      <td>-3,70286</td>\n",
       "      <td>NaN</td>\n",
       "      <td>NaN</td>\n",
       "    </tr>\n",
       "    <tr>\n",
       "      <th>15331</th>\n",
       "      <td>15332</td>\n",
       "      <td>150394373</td>\n",
       "      <td>False</td>\n",
       "      <td>inmobiliaria pulpon</td>\n",
       "      <td>912788039.0</td>\n",
       "      <td>https://www.fotocasa.es/es/comprar/vivienda/ma...</td>\n",
       "      <td>3.0</td>\n",
       "      <td>1.0</td>\n",
       "      <td>150.0</td>\n",
       "      <td>165000</td>\n",
       "      <td>...</td>\n",
       "      <td>0</td>\n",
       "      <td>0</td>\n",
       "      <td>0</td>\n",
       "      <td>0</td>\n",
       "      <td>0</td>\n",
       "      <td>0</td>\n",
       "      <td>40,36652</td>\n",
       "      <td>-3,48951</td>\n",
       "      <td>NaN</td>\n",
       "      <td>NaN</td>\n",
       "    </tr>\n",
       "    <tr>\n",
       "      <th>15332</th>\n",
       "      <td>15333</td>\n",
       "      <td>153901397</td>\n",
       "      <td>False</td>\n",
       "      <td>tecnocasa torrelodones</td>\n",
       "      <td>912780348.0</td>\n",
       "      <td>https://www.fotocasa.es/es/comprar/vivienda/ma...</td>\n",
       "      <td>4.0</td>\n",
       "      <td>2.0</td>\n",
       "      <td>175.0</td>\n",
       "      <td>495000</td>\n",
       "      <td>...</td>\n",
       "      <td>0</td>\n",
       "      <td>0</td>\n",
       "      <td>0</td>\n",
       "      <td>0</td>\n",
       "      <td>0</td>\n",
       "      <td>0</td>\n",
       "      <td>40,57444</td>\n",
       "      <td>-3,92124</td>\n",
       "      <td>NaN</td>\n",
       "      <td>NaN</td>\n",
       "    </tr>\n",
       "    <tr>\n",
       "      <th>15333</th>\n",
       "      <td>15334</td>\n",
       "      <td>152607440</td>\n",
       "      <td>False</td>\n",
       "      <td>inmobiliaria pulpon</td>\n",
       "      <td>912788039.0</td>\n",
       "      <td>https://www.fotocasa.es/es/comprar/vivienda/ma...</td>\n",
       "      <td>3.0</td>\n",
       "      <td>2.0</td>\n",
       "      <td>101.0</td>\n",
       "      <td>195000</td>\n",
       "      <td>...</td>\n",
       "      <td>0</td>\n",
       "      <td>0</td>\n",
       "      <td>0</td>\n",
       "      <td>0</td>\n",
       "      <td>0</td>\n",
       "      <td>0</td>\n",
       "      <td>40,36967</td>\n",
       "      <td>-3,48105</td>\n",
       "      <td>NaN</td>\n",
       "      <td>NaN</td>\n",
       "    </tr>\n",
       "    <tr>\n",
       "      <th>15334</th>\n",
       "      <td>15335</td>\n",
       "      <td>153901356</td>\n",
       "      <td>False</td>\n",
       "      <td>infocasa consulting</td>\n",
       "      <td>911360461.0</td>\n",
       "      <td>https://www.fotocasa.es/es/comprar/vivienda/ma...</td>\n",
       "      <td>3.0</td>\n",
       "      <td>2.0</td>\n",
       "      <td>152.0</td>\n",
       "      <td>765000</td>\n",
       "      <td>...</td>\n",
       "      <td>0</td>\n",
       "      <td>0</td>\n",
       "      <td>0</td>\n",
       "      <td>0</td>\n",
       "      <td>0</td>\n",
       "      <td>0</td>\n",
       "      <td>40,45773</td>\n",
       "      <td>-3,69068</td>\n",
       "      <td>NaN</td>\n",
       "      <td>NaN</td>\n",
       "    </tr>\n",
       "  </tbody>\n",
       "</table>\n",
       "<p>15335 rows × 37 columns</p>\n",
       "</div>"
      ],
      "text/plain": [
       "       Unnamed: 0  id_realEstates  isNew                    realEstate_name  \\\n",
       "0               1       153771986  False            ferrari 57 inmobiliaria   \n",
       "1               2       153867863  False  tecnocasa fuenlabrada ferrocarril   \n",
       "2               3       153430440  False                 look find boadilla   \n",
       "3               4       152776331  False  tecnocasa fuenlabrada ferrocarril   \n",
       "4               5       153180188  False            ferrari 57 inmobiliaria   \n",
       "...           ...             ...    ...                                ...   \n",
       "15330       15331       153901377  False                infocasa consulting   \n",
       "15331       15332       150394373  False                inmobiliaria pulpon   \n",
       "15332       15333       153901397  False             tecnocasa torrelodones   \n",
       "15333       15334       152607440  False                inmobiliaria pulpon   \n",
       "15334       15335       153901356  False                infocasa consulting   \n",
       "\n",
       "       phone_realEstate                                       url_inmueble  \\\n",
       "0           912177526.0  https://www.fotocasa.es/es/comprar/vivienda/ma...   \n",
       "1           916358736.0  https://www.fotocasa.es/es/comprar/vivienda/ma...   \n",
       "2           916350408.0  https://www.fotocasa.es/es/comprar/vivienda/ma...   \n",
       "3           916358736.0  https://www.fotocasa.es/es/comprar/vivienda/ma...   \n",
       "4           912177526.0  https://www.fotocasa.es/es/comprar/vivienda/ma...   \n",
       "...                 ...                                                ...   \n",
       "15330       911360461.0  https://www.fotocasa.es/es/comprar/vivienda/ma...   \n",
       "15331       912788039.0  https://www.fotocasa.es/es/comprar/vivienda/ma...   \n",
       "15332       912780348.0  https://www.fotocasa.es/es/comprar/vivienda/ma...   \n",
       "15333       912788039.0  https://www.fotocasa.es/es/comprar/vivienda/ma...   \n",
       "15334       911360461.0  https://www.fotocasa.es/es/comprar/vivienda/ma...   \n",
       "\n",
       "       rooms  bathrooms  surface   price  ... level4Id level5Id level6Id  \\\n",
       "0        3.0        2.0    103.0  195000  ...        0        0        0   \n",
       "1        3.0        1.0      NaN   89000  ...        0        0        0   \n",
       "2        2.0        2.0     99.0  390000  ...        0        0        0   \n",
       "3        3.0        1.0     86.0   89000  ...        0        0        0   \n",
       "4        2.0        2.0    106.0  172000  ...        0        0        0   \n",
       "...      ...        ...      ...     ...  ...      ...      ...      ...   \n",
       "15330    2.0        1.0     96.0  259470  ...        0        0        0   \n",
       "15331    3.0        1.0    150.0  165000  ...        0        0        0   \n",
       "15332    4.0        2.0    175.0  495000  ...        0        0        0   \n",
       "15333    3.0        2.0    101.0  195000  ...        0        0        0   \n",
       "15334    3.0        2.0    152.0  765000  ...        0        0        0   \n",
       "\n",
       "      level7Id level8Id accuracy          latitude          longitude zipCode  \\\n",
       "0            0        0        0  40,2948276786438  -3,44402412135624     NaN   \n",
       "1            0        0        1          40,28674           -3,79351     NaN   \n",
       "2            0        0        0  40,4115646786438  -3,90662252135624     NaN   \n",
       "3            0        0        0  40,2853785786438  -3,79508142135624     NaN   \n",
       "4            0        0        0  40,2998774864376  -3,45226301356237     NaN   \n",
       "...        ...      ...      ...               ...                ...     ...   \n",
       "15330        0        0        0          40,45416           -3,70286     NaN   \n",
       "15331        0        0        0          40,36652           -3,48951     NaN   \n",
       "15332        0        0        0          40,57444           -3,92124     NaN   \n",
       "15333        0        0        0          40,36967           -3,48105     NaN   \n",
       "15334        0        0        0          40,45773           -3,69068     NaN   \n",
       "\n",
       "      customZone  \n",
       "0            NaN  \n",
       "1            NaN  \n",
       "2            NaN  \n",
       "3            NaN  \n",
       "4            NaN  \n",
       "...          ...  \n",
       "15330        NaN  \n",
       "15331        NaN  \n",
       "15332        NaN  \n",
       "15333        NaN  \n",
       "15334        NaN  \n",
       "\n",
       "[15335 rows x 37 columns]"
      ]
     },
     "execution_count": 2,
     "metadata": {},
     "output_type": "execute_result"
    }
   ],
   "source": [
    "import pandas as pd\n",
    "import matplotlib.pyplot as plt\n",
    "import numpy as np\n",
    "\n",
    "# this CSV file contains semicolons instead of comas as separator\n",
    "ds = pd.read_csv('assets/real_estate.csv', sep=';')\n",
    "ds"
   ]
  },
  {
   "attachments": {},
   "cell_type": "markdown",
   "id": "latin-guest",
   "metadata": {},
   "source": [
    "#### Exercise 01. Which is the most expensive house in the dataset? (★☆☆)\n",
    "\n",
    "Print the address and the price of the selected house. For example:\n",
    "\n",
    "`The house with address General Street Nº5 is the most expensive and its price is 5000000 USD`"
   ]
  },
  {
   "cell_type": "code",
   "execution_count": 29,
   "id": "developing-optimum",
   "metadata": {},
   "outputs": [
    {
     "name": "stdout",
     "output_type": "stream",
     "text": [
      "The house with address El Escorial is the most expensive and its price is 8500000 USD\n"
     ]
    }
   ],
   "source": [
    "# (1) sorted the dataset by descending price\n",
    "new_ds = ds.sort_values(by='price',ascending=False)\n",
    "# (2) created two new variables with the results converted into string\n",
    "address = new_ds['address'][:1].to_string(index=False)\n",
    "price = new_ds['price'][:1].to_string(index=False)\n",
    "# (3) printed the whole sentence, including the new variables\n",
    "print('The house with address '+address+' is the most expensive and its price is '+price+ ' USD')\n"
   ]
  },
  {
   "attachments": {},
   "cell_type": "markdown",
   "id": "lesser-cosmetic",
   "metadata": {},
   "source": [
    "#### Exercise 02. Which is cheapest house in the dataset? (★☆☆)\n",
    "\n",
    "Print the address and the price of the selected house. For example:\n",
    "\n",
    "`The house with address Concrete Street Nº1 is the cheapest and its price is 12000 USD`"
   ]
  },
  {
   "cell_type": "code",
   "execution_count": 7,
   "id": "lovely-oasis",
   "metadata": {},
   "outputs": [
    {
     "data": {
      "text/plain": [
       "'The house with address Berlin, Coslada is the cheapest and its price is 600 USD'"
      ]
     },
     "execution_count": 7,
     "metadata": {},
     "output_type": "execute_result"
    }
   ],
   "source": [
    "# TODO\n",
    "import pandas as pd\n",
    "\n",
    "ds = pd.read_csv('assets/real_estate.csv', sep=';')\n",
    "# (1a) sorted the dataset by ascending value and \n",
    "# (1b) filtered out the resuls with '0' price\n",
    "new_ds = ds.sort_values(by='price',ascending=True).loc[ds['price']>0]\n",
    "# (2) created two new variables with the results converted into string\n",
    "aux1 = new_ds['address'][:1].to_string(index=False)\n",
    "aux2 = new_ds['price'][:1].to_string(index=False)\n",
    "# (3) printed the whole sentence, including the new variables\n",
    "'The house with address '+aux1+' is the cheapest and its price is '+aux2+ ' USD'\n"
   ]
  },
  {
   "attachments": {},
   "cell_type": "markdown",
   "id": "compliant-fellowship",
   "metadata": {},
   "source": [
    "#### Exercise 03. Which is the biggest and the smallest house in the dataset? (★☆☆)\n",
    "\n",
    "Print both the address and the surface of the selected houses. For example:\n",
    "\n",
    "`The bigger house is located on Yukka Street Nº10 and its surface is 5000 meters`\n",
    "\n",
    "`The smaller house is located on County Road 1 N and its surface is 200 meters`"
   ]
  },
  {
   "cell_type": "code",
   "execution_count": 2,
   "id": "every-tiffany",
   "metadata": {},
   "outputs": [
    {
     "name": "stdout",
     "output_type": "stream",
     "text": [
      "The bigger house is located on Sevilla la Nueva and its surface is 249000.0 meters\n",
      "The smaller house is located on Calle Amparo,  Madrid Capital and its surface is 15.0 meters\n"
     ]
    }
   ],
   "source": [
    "import pandas as pd\n",
    "ds = pd.read_csv('assets/real_estate.csv', sep=';')\n",
    "\n",
    "# BIGGER HOUSE\n",
    "# (1) sorted the dataset by descending surface\n",
    "new_ds = ds.sort_values(by='surface',ascending=False)\n",
    "# (2) created two new variables with the results and converted into string\n",
    "aux1 = new_ds['address'][:1].to_string(index=False)\n",
    "aux2 = new_ds['surface'][:1].to_string(index=False)\n",
    "# (3) printed the whole sentence, including the new variables\n",
    "print('The bigger house is located on '+aux1+' and its surface is '+aux2+ ' meters')\n",
    "\n",
    "# SMALLER HOUSE\n",
    "\n",
    "# (1a) sorted the dataset by ascending surface \n",
    "# (1b) and filtered out the resuls with '0' surface\n",
    "new_ds = ds.sort_values(by='surface',ascending=True).loc[ds['surface']>0]\n",
    "# (2) created two new variables with the results and converted into string\n",
    "aux1 = new_ds['address'][:1].to_string(index=False)\n",
    "aux2 = new_ds['surface'][:1].to_string(index=False)\n",
    "# (3) printed the whole sentence, including the new variables\n",
    "print('The smaller house is located on '+aux1+' and its surface is '+aux2+ ' meters')"
   ]
  },
  {
   "attachments": {},
   "cell_type": "markdown",
   "id": "danish-spirit",
   "metadata": {},
   "source": [
    "#### Exercise 04. How many populations (level5 column) the dataset contains? (★☆☆)\n",
    "\n",
    "Print the name of the populations with comma as separator. For example:\n",
    "\n",
    "`> print(populations)`\n",
    "\n",
    "`population1, population2, population3,...`"
   ]
  },
  {
   "cell_type": "code",
   "execution_count": null,
   "id": "exciting-accreditation",
   "metadata": {},
   "outputs": [],
   "source": [
    "import pandas as pd\n",
    "ds = pd.read_csv('assets/real_estate.csv', sep=';')\n",
    "\n",
    "# (1) Create a variable that is a list of the populations\n",
    "# grouped 'level5' and only printed its 1st result\n",
    "populations = list(ds.groupby(['level5']).head(1)['level5'])\n",
    "print(populations)"
   ]
  },
  {
   "attachments": {},
   "cell_type": "markdown",
   "id": "crazy-blame",
   "metadata": {},
   "source": [
    "#### Exercise 05. Does the dataset contain NAs? (★☆☆)\n",
    "\n",
    "Print a boolean value (`true` or `fase`) followed by the rows/cols that contains NAs."
   ]
  },
  {
   "cell_type": "code",
   "execution_count": null,
   "id": "transparent-poetry",
   "metadata": {},
   "outputs": [],
   "source": [
    "import pandas as pd\n",
    "ds = pd.read_csv('assets/real_estate.csv', sep=';')\n",
    "# (1) used function isna to check which values are NAs\n",
    "print(ds.isna())"
   ]
  },
  {
   "attachments": {},
   "cell_type": "markdown",
   "id": "italic-hydrogen",
   "metadata": {},
   "source": [
    "#### Exercise 06. Delete the NAs of the dataset, if applicable (★★☆)\n",
    "\n",
    "Print a comparison between the dimensions of the original DataFrame versus the DataFrame after the deletions"
   ]
  },
  {
   "cell_type": "code",
   "execution_count": 11,
   "id": "administrative-roads",
   "metadata": {},
   "outputs": [
    {
     "name": "stdout",
     "output_type": "stream",
     "text": [
      "ds.shape = (15335, 37)\n",
      "                cols  trues  falses\n",
      "0         Unnamed: 0      0   15335\n",
      "1     id_realEstates      0   15335\n",
      "2              isNew      0   15335\n",
      "3    realEstate_name      0   15335\n",
      "4   phone_realEstate      0   15335\n",
      "5       url_inmueble      0   15335\n",
      "6              rooms      0   15335\n",
      "7          bathrooms      0   15335\n",
      "8            surface      0   15335\n",
      "9              price      0   15335\n",
      "10              date      0   15335\n",
      "11       description      0   15335\n",
      "12           address      0   15335\n",
      "13           country      0   15335\n",
      "14            level1      0   15335\n",
      "15            level2      0   15335\n",
      "16            level3      0   15335\n",
      "17            level4      0   15335\n",
      "18            level5      0   15335\n",
      "19            level6      0   15335\n",
      "20            level7      0   15335\n",
      "21            level8      0   15335\n",
      "22        upperLevel      0   15335\n",
      "23         countryId      0   15335\n",
      "24          level1Id      0   15335\n",
      "25          level2Id      0   15335\n",
      "26          level3Id      0   15335\n",
      "27          level4Id      0   15335\n",
      "28          level5Id      0   15335\n",
      "29          level6Id      0   15335\n",
      "30          level7Id      0   15335\n",
      "31          level8Id      0   15335\n",
      "32          accuracy      0   15335\n",
      "33          latitude      0   15335\n",
      "34         longitude      0   15335\n",
      "35           zipCode      0   15335\n",
      "36        customZone      0   15335\n"
     ]
    }
   ],
   "source": [
    "import pandas as pd\n",
    "ds = pd.read_csv('assets/real_estate.csv', sep=';')\n",
    "print(\"ds.shape = {}\".format(ds.shape))\n",
    "ds.dropna(axis=1, inplace=True)\n",
    "print(\"ds.shape = {}\".format(ds.shape))"
   ]
  },
  {
   "attachments": {},
   "cell_type": "markdown",
   "id": "middle-china",
   "metadata": {},
   "source": [
    "#### Exercise 07. Which is the mean of prices in the population (level5 column) of \"Arroyomolinos (Madrid)\"? (★★☆)\n",
    "\n",
    "Print the obtained value"
   ]
  },
  {
   "cell_type": "code",
   "execution_count": 2,
   "id": "nuclear-belief",
   "metadata": {},
   "outputs": [
    {
     "name": "stdout",
     "output_type": "stream",
     "text": [
      "294541.59854014596\n"
     ]
    }
   ],
   "source": [
    "import pandas as pd\n",
    "ds = pd.read_csv('assets/real_estate.csv', sep=';')\n",
    "aux1 = ds.loc[ds['level5'] == \"Arroyomolinos (Madrid)\"]\n",
    "print(aux1['price'].mean())"
   ]
  },
  {
   "attachments": {},
   "cell_type": "markdown",
   "id": "concerned-radical",
   "metadata": {},
   "source": [
    "#### Exercise 08. Plot the histogram of prices for the population (level5 column) of \"Arroyomolinos (Madrid)\" and explain what you observe (★★☆)\n",
    "\n",
    "Print the histogram of the prices and write in the Markdown cell a brief analysis about the plot."
   ]
  },
  {
   "cell_type": "code",
   "execution_count": 27,
   "id": "sudden-message",
   "metadata": {},
   "outputs": [
    {
     "data": {
      "image/png": "[encoded data removed]",
      "text/plain": [
       "<Figure size 1200x500 with 1 Axes>"
      ]
     },
     "metadata": {},
     "output_type": "display_data"
    }
   ],
   "source": [
    "import pandas as pd\n",
    "import matplotlib.pyplot as plt\n",
    "import numpy as np\n",
    "\n",
    "ds = pd.read_csv('assets/real_estate.csv', sep=';')\n",
    "aux1 = ds.loc[ds['level5'] == \"Arroyomolinos (Madrid)\"]\n",
    "plt.figure(figsize = (12, 5))\n",
    "plt.hist(aux1['price'], bins = 30, alpha = 0.8)\n",
    "plt.title(\"Prices of houses in Arroyomolinos (Madrid)\")\n",
    "plt.xlabel('Price (euros)')\n",
    "plt.ylabel('Quantity')\n",
    "plt.show()"
   ]
  },
  {
   "attachments": {},
   "cell_type": "markdown",
   "id": "impressed-combination",
   "metadata": {},
   "source": [
    "#The historygram shows that most prices values are just under 300k, in accordance with the mean of prices (294,541.59). The graph also shows that most of the prices are  in the range 200k-400k. Finaly, it shows that there are some 0 (usually is a way of publishing a house) and few values over 400k. "
   ]
  },
  {
   "attachments": {},
   "cell_type": "markdown",
   "id": "actual-edinburgh",
   "metadata": {},
   "source": [
    "#### Exercise 09. Is the average of \"Valdemorillo\" and \"Galapagar\" prices the same? (★★☆)\n",
    "\n",
    "Print the both average prices and then write a conclusion about them"
   ]
  },
  {
   "cell_type": "code",
   "execution_count": 36,
   "id": "numeric-commerce",
   "metadata": {},
   "outputs": [
    {
     "name": "stdout",
     "output_type": "stream",
     "text": [
      "average price of Valdemorillo: 363860.29\n",
      "average price of Galapagar: 360063.2\n",
      "The average prices of Valdemorillo are not the same. The average prices of Valdemorillo are 3797.09 EUR more expensive than Galapar average prices\n"
     ]
    }
   ],
   "source": [
    "import pandas as pd\n",
    "\n",
    "ds = pd.read_csv('assets/real_estate.csv', sep=';')\n",
    "\n",
    "aux1 = ds.loc[ds['level5'] == \"Valdemorillo\"]\n",
    "print(\"average price of Valdemorillo: \" + str(aux1['price'].mean().round(2)))\n",
    "aux2 = ds.loc[ds['level5'] == \"Galapagar\"]\n",
    "print(\"average price of Galapagar: \" + str(aux2['price'].mean().round(2)))\n",
    "result = aux1['price'].mean()-aux2['price'].mean()\n",
    "\n",
    "print(\"The average prices of Valdemorillo are not the same. The average prices of Valdemorillo are \"+ str(result.round(2))+\" EUR more expensive than Galapar average prices\")"
   ]
  },
  {
   "attachments": {},
   "cell_type": "markdown",
   "id": "lonely-article",
   "metadata": {},
   "source": [
    "#### Exercise 10. Is the average of \"Valdemorillo\" and \"Galapagar\" price per square meter (price/m2) the same? (★★☆)\n",
    "\n",
    "Print the both average prices and then write a conclusion about\n",
    "\n",
    "Hint: Create a new column called `pps` (price per square) and then analyse the values"
   ]
  },
  {
   "cell_type": "code",
   "execution_count": 1,
   "id": "hourly-globe",
   "metadata": {},
   "outputs": [
    {
     "name": "stdout",
     "output_type": "stream",
     "text": [
      "The average price/m2 in Valdemorillo is: 1317.95\n",
      "The average price/m2 in Galapagar is: 1606.32\n",
      "On average, the price/m2 in Valdemorillo is 288,37 EUR less than the price in Galapagar.\n"
     ]
    }
   ],
   "source": [
    "import pandas as pd\n",
    "\n",
    "ds = pd.read_csv('assets/real_estate.csv', sep=';')\n",
    "ds['pps'] = ds['price'] / ds['surface']\n",
    "\n",
    "aux1 = ds.loc[ds['level5'] == \"Valdemorillo\"]\n",
    "aux2 = ds.loc[ds['level5'] == \"Galapagar\"]\n",
    "print(\"The average price/m2 in Valdemorillo is: \"+str(aux1['pps'].mean().round(2)))\n",
    "print(\"The average price/m2 in Galapagar is: \"+str(aux2['pps'].mean().round(2)))\n",
    "print(\"On average, the price/m2 in Valdemorillo is 288,37 EUR less than the price in Galapagar.\")"
   ]
  },
  {
   "attachments": {},
   "cell_type": "markdown",
   "id": "pleasant-invite",
   "metadata": {},
   "source": [
    "#### Exercise 11. Analyse the relation between the surface and the price of the houses (★★☆)\n",
    "\n",
    "Hint: You can make a `scatter plot` and then write a conclusion about it"
   ]
  },
  {
   "cell_type": "code",
   "execution_count": 12,
   "id": "common-drilling",
   "metadata": {},
   "outputs": [
    {
     "data": {
      "image/png": "[encoded data removed]",
      "text/plain": [
       "<Figure size 1000x500 with 1 Axes>"
      ]
     },
     "metadata": {},
     "output_type": "display_data"
    }
   ],
   "source": [
    "import pandas as pd\n",
    "import numpy as np\n",
    "import matplotlib.pyplot as plt\n",
    "\n",
    "ds = pd.read_csv('assets/real_estate.csv', sep=';')\n",
    "aux1 = ds.loc[(ds['surface'] < 2000) & (ds['surface'] > 0) & (ds['price'] > 0)]\n",
    "\n",
    "plt.figure(figsize = (10,5))\n",
    "plt.scatter(aux1['price'],aux1['surface'], s=1)\n",
    "plt.title(\"Relation between prices and surfaces of houses in sale (up to 2000 ms)\")\n",
    "plt.xlabel('Price (millions)')\n",
    "plt.ylabel('Surface (meters2)')\n",
    "plt.show()"
   ]
  },
  {
   "attachments": {},
   "cell_type": "markdown",
   "id": "ahead-liquid",
   "metadata": {},
   "source": [
    "# This scatter plot shows that most of the houses count with a surface between 0 and 700 meters, and that the mayority of the prices are between 0 and EUR 1,8 millions.\n",
    "# However, this plot does not show a strong correlation between surface and price. This could be due to the fact that includes all type of houses in all regions of Spain: old rural houses (very low pps) and luxury city aparments in high-populated cities (very high pps). "
   ]
  },
  {
   "attachments": {},
   "cell_type": "markdown",
   "id": "coordinate-sunrise",
   "metadata": {},
   "source": [
    "#### Exercise 12. How many real estate agencies the dataset contains? (★★☆)\n",
    "\n",
    "Print the obtained value"
   ]
  },
  {
   "cell_type": "code",
   "execution_count": 28,
   "id": "valid-honolulu",
   "metadata": {},
   "outputs": [
    {
     "name": "stdout",
     "output_type": "stream",
     "text": [
      "the total amount of real estate agencies in the dataset is: 1821\n"
     ]
    }
   ],
   "source": [
    "import pandas as pd\n",
    "import matplotlib.pyplot as plt\n",
    "import numpy as np\n",
    "\n",
    "ds = pd.read_csv('assets/real_estate.csv', sep=';')\n",
    "result = ds.groupby(['realEstate_name'])\n",
    "print('The total amount of real estate agencies in the dataset is: '+ str(len(result.sum())))"
   ]
  },
  {
   "attachments": {},
   "cell_type": "markdown",
   "id": "binding-ebony",
   "metadata": {},
   "source": [
    "#### Exercise 13. Which is the population (level5 column) that contains the most houses? (★★☆)\n",
    "\n",
    "Print both the population and the number of houses"
   ]
  },
  {
   "cell_type": "code",
   "execution_count": 3,
   "id": "static-perry",
   "metadata": {},
   "outputs": [
    {
     "name": "stdout",
     "output_type": "stream",
     "text": [
      "The population that contains the most houses is Madrid Capital with a total of 6643 houses.\n"
     ]
    }
   ],
   "source": [
    "import pandas as pd\n",
    "import matplotlib.pyplot as plt\n",
    "import numpy as np\n",
    "\n",
    "ds = pd.read_csv('assets/real_estate.csv', sep=';')\n",
    "max_population = ds['level5'].value_counts().index.tolist()[0]\n",
    "max_houses = str(ds['level5'].value_counts().tolist()[0])\n",
    "print(\"The population that contains the most houses is\"+max_population+\" with a total of \"+max_houses+\" houses.\")\n"
   ]
  },
  {
   "attachments": {},
   "cell_type": "markdown",
   "id": "entire-classification",
   "metadata": {},
   "source": [
    "#### Exercise 14. Now let's work with the \"south belt\" of madrid. Make a subset of the original DataFrame that contains the following populations (level5 column): \"Fuenlabrada\",\"Leganés\",\"Getafe\",\"Alcorcón\" (★★☆)\n",
    "\n",
    "Hint: Filter the original DataFrame using the column `level5` and the function `isin`"
   ]
  },
  {
   "cell_type": "code",
   "execution_count": 4,
   "id": "binary-input",
   "metadata": {},
   "outputs": [
    {
     "name": "stdout",
     "output_type": "stream",
     "text": [
      "       Unnamed: 0  id_realEstates  isNew  \\\n",
      "1               2       153867863  False   \n",
      "3               4       152776331  False   \n",
      "85             86       153152077  False   \n",
      "94             95       153995577  False   \n",
      "109           110       153586414  False   \n",
      "...           ...             ...    ...   \n",
      "15275       15276       153903887  False   \n",
      "15291       15292       151697757  False   \n",
      "15305       15306       153902389  False   \n",
      "15322       15323       153871864  False   \n",
      "15325       15326       153901467  False   \n",
      "\n",
      "                                 realEstate_name  phone_realEstate  \\\n",
      "1              tecnocasa fuenlabrada ferrocarril       916358736.0   \n",
      "3              tecnocasa fuenlabrada ferrocarril       916358736.0   \n",
      "85                       sinergical inmobiliaria               NaN   \n",
      "94                               viviendas365com       911226014.0   \n",
      "109              area uno asesores inmobiliarios       912664081.0   \n",
      "...                                          ...               ...   \n",
      "15275  aliseda servicios de gestion inmobiliaria       911368198.0   \n",
      "15291                                    unipiso       912788631.0   \n",
      "15305                             jadein ferrero       914871639.0   \n",
      "15322                          gestion comercial       911220662.0   \n",
      "15325                              montehogar 68       911790675.0   \n",
      "\n",
      "                                            url_inmueble  rooms  bathrooms  \\\n",
      "1      https://www.fotocasa.es/es/comprar/vivienda/ma...    3.0        1.0   \n",
      "3      https://www.fotocasa.es/es/comprar/vivienda/ma...    3.0        1.0   \n",
      "85     https://www.fotocasa.es/es/comprar/vivienda/le...    1.0        1.0   \n",
      "94     https://www.fotocasa.es/es/comprar/vivienda/le...    3.0        2.0   \n",
      "109    https://www.fotocasa.es/es/comprar/vivienda/ma...    3.0        3.0   \n",
      "...                                                  ...    ...        ...   \n",
      "15275  https://www.fotocasa.es/es/comprar/vivienda/al...    3.0        1.0   \n",
      "15291  https://www.fotocasa.es/es/comprar/vivienda/al...    3.0        2.0   \n",
      "15305  https://www.fotocasa.es/es/comprar/vivienda/ma...    3.0        2.0   \n",
      "15322  https://www.fotocasa.es/es/comprar/vivienda/ma...    3.0        1.0   \n",
      "15325  https://www.fotocasa.es/es/comprar/vivienda/ma...    2.0        2.0   \n",
      "\n",
      "       surface   price  ... level4Id level5Id level6Id level7Id level8Id  \\\n",
      "1          NaN   89000  ...        0        0        0        0        0   \n",
      "3         86.0   89000  ...        0        0        0        0        0   \n",
      "85        50.0  107000  ...        0        0        0        0        0   \n",
      "94       120.0  320000  ...        0        0        0        0        0   \n",
      "109      142.0  425000  ...        0        0        0        0        0   \n",
      "...        ...     ...  ...      ...      ...      ...      ...      ...   \n",
      "15275     78.0  138000  ...        0        0        0        0        0   \n",
      "15291    110.0  279000  ...        0        0        0        0        0   \n",
      "15305     85.0  170000  ...        0        0        0        0        0   \n",
      "15322     91.0  112000  ...        0        0        0        0        0   \n",
      "15325     99.0  215000  ...        0        0        0        0        0   \n",
      "\n",
      "      accuracy          latitude          longitude zipCode customZone  \n",
      "1            1          40,28674           -3,79351     NaN        NaN  \n",
      "3            0  40,2853785786438  -3,79508142135624     NaN        NaN  \n",
      "85           1          40,35059           -3,82693     NaN        NaN  \n",
      "94           0          40,31933           -3,77574     NaN        NaN  \n",
      "109          0        40,3313411         -3,8313868     NaN        NaN  \n",
      "...        ...               ...                ...     ...        ...  \n",
      "15275        1          40,31381           -3,83733     NaN        NaN  \n",
      "15291        0        40,3259051           -3,76318     NaN        NaN  \n",
      "15305        0        40,2882193         -3,8098617     NaN        NaN  \n",
      "15322        0          40,28282           -3,78892     NaN        NaN  \n",
      "15325        1          40,28062           -3,79869     NaN        NaN  \n",
      "\n",
      "[907 rows x 37 columns]\n"
     ]
    }
   ],
   "source": [
    "import pandas as pd\n",
    "\n",
    "ds = pd.read_csv('assets/real_estate.csv', sep=';')\n",
    "sb_madrid = ds['level5'].isin(['Fuenlabrada','Leganés','Getafe','Alcorcón'])\n",
    "print(ds[sb_madrid])"
   ]
  },
  {
   "attachments": {},
   "cell_type": "markdown",
   "id": "severe-fisher",
   "metadata": {},
   "source": [
    "#### Exercise 15. Make a bar plot of the median of the prices and explain what you observe (you must use the subset obtained in the question 14) (★★★)\n",
    "\n",
    "Print the bar of the median of the prices and write in the Markdown cell a brief analysis about the plot"
   ]
  },
  {
   "cell_type": "code",
   "execution_count": 8,
   "id": "lyric-bunch",
   "metadata": {},
   "outputs": [
    {
     "data": {
      "image/png": "[encoded data removed]",
      "text/plain": [
       "<Figure size 1000x500 with 1 Axes>"
      ]
     },
     "metadata": {},
     "output_type": "display_data"
    }
   ],
   "source": [
    "import pandas as pd\n",
    "\n",
    "#dataset and subdataset\n",
    "ds = pd.read_csv('assets/real_estate.csv', sep=';')\n",
    "popul_filter = ds['level5'].isin(['Fuenlabrada','Leganés','Getafe','Alcorcón'])\n",
    "sbmadrid = ds[popul_filter]\n",
    "\n",
    "#Median of prices\n",
    "median_f = sbmadrid.loc[sbmadrid['level5']=='Fuenlabrada']['price'].median()\n",
    "median_l = sbmadrid.loc[sbmadrid['level5']=='Leganés']['price'].median()\n",
    "median_g = sbmadrid.loc[sbmadrid['level5']=='Getafe']['price'].median()\n",
    "median_a = sbmadrid.loc[sbmadrid['level5']=='Alcorcón']['price'].median()\n",
    "\n",
    "# BAR PLOT\n",
    "labels = [\"Fuenlabrada\", \"Leganés\", \"Getafe\", \"Alcorcón\"]\n",
    "values = [median_f,median_l,median_g,median_a]\n",
    "plt.figure(figsize = (10, 5))\n",
    "plt.bar(labels, values)\n",
    "plt.title(\"Median of prices in South Belt of Madrid\")\n",
    "plt.xlabel(\"Populations\")\n",
    "plt.ylabel(\"Median price (EUR)\")\n",
    "plt.show()\n"
   ]
  },
  {
   "attachments": {},
   "cell_type": "markdown",
   "id": "sublime-newspaper",
   "metadata": {},
   "source": [
    "# This bar plot shows the median of the prices in four populations: Fuenlabrada, Leganés, Getafe and Alcorcón.\n",
    "# It is possible to see that the median price of Getafe is the most expensive and it differs from the others by a wide margin.\n",
    "# The others populations have almost the same median price, being Fuenlabrada the cheapest"
   ]
  },
  {
   "attachments": {},
   "cell_type": "markdown",
   "id": "speaking-diamond",
   "metadata": {},
   "source": [
    "#### Exercise 16. Calculate the sample mean and variance of the variables: price, rooms, surface area and bathrooms (you must use the subset obtained in the question 14) (★★★)\n",
    "\n",
    "Print both values for each variable"
   ]
  },
  {
   "cell_type": "code",
   "execution_count": 10,
   "id": "random-feeling",
   "metadata": {},
   "outputs": [
    {
     "name": "stdout",
     "output_type": "stream",
     "text": [
      "The sample mean of the variable 'price' in the subset is 223094.48 and its variance is 14921367508.05\n",
      "The sample mean of the variable 'rooms' in the subset is 3.02 and its variance is 0.72\n",
      "The sample mean of the variable 'surface' in the subset is 111.75 and its variance is 4263.05\n",
      "The sample mean of the variable 'bathrooms' in the subset is 1.63 and its variance is 0.57\n"
     ]
    }
   ],
   "source": [
    "import pandas as pd\n",
    "#SET AND SUBSET\n",
    "ds = pd.read_csv('assets/real_estate.csv', sep=';')\n",
    "popul_filter = ds['level5'].isin(['Fuenlabrada','Leganés','Getafe','Alcorcón'])\n",
    "sbmadrid = ds[popul_filter]\n",
    "#MEAN OF VARIABLES\n",
    "m_price = str(round(sbmadrid['price'].mean(),2))\n",
    "m_rooms = str(round(sbmadrid['rooms'].mean(),2))\n",
    "m_surface = str(round(sbmadrid['surface'].mean(),2))\n",
    "m_bathrooms = str(round(sbmadrid['bathrooms'].mean(),2))\n",
    "#VARIANCE OF VARIABLES\n",
    "v_price = str(round(sbmadrid['price'].var(),2))\n",
    "v_rooms = str(round(sbmadrid['rooms'].var(),2))\n",
    "v_surface = str(round(sbmadrid['surface'].var(),2))\n",
    "v_bathrooms = str(round(sbmadrid['bathrooms'].var(),2))\n",
    "#FINAL TEXT\n",
    "print(\"The sample mean of the variable 'price' in the subset is \" +m_price+ \" and its variance is \"+v_price)\n",
    "print(\"The sample mean of the variable 'rooms' in the subset is \" +m_rooms+ \" and its variance is \"+v_rooms)\n",
    "print(\"The sample mean of the variable 'surface' in the subset is \" +m_surface+ \" and its variance is \"+v_surface)\n",
    "print(\"The sample mean of the variable 'bathrooms' in the subset is \" +m_bathrooms+ \" and its variance is \"+v_bathrooms)"
   ]
  },
  {
   "attachments": {},
   "cell_type": "markdown",
   "id": "revolutionary-matrix",
   "metadata": {},
   "source": [
    "#### Exercise 17. What is the most expensive house of each population? You must use the subset obtained in the question 14 (★★☆)\n",
    "\n",
    "Print both the address and the price of the selected house of each population. You can print a DataFrame or a single line for each population"
   ]
  },
  {
   "cell_type": "code",
   "execution_count": 9,
   "id": "fifteen-browse",
   "metadata": {},
   "outputs": [
    {
     "name": "stdout",
     "output_type": "stream",
     "text": [
      "The most expensive houses of each population are:\n",
      "Fuenlabrada: EUR 490000, located in Calle de Paulo Freire, 5, Fuenlabrada\n",
      "Leganés: EUR 650000, located in Avenida Reina Sofía, Leganés\n",
      "Getafe: EUR 1050000, located in Getafe\n",
      "Alcorcón: EUR 950000, located in Alcorcón\n"
     ]
    }
   ],
   "source": [
    "import pandas as pd\n",
    "\n",
    "ds = pd.read_csv('assets/real_estate.csv', sep=';')\n",
    "popul_filter = ds['level5'].isin(['Fuenlabrada','Leganés','Getafe','Alcorcón'])\n",
    "sbmadrid = ds[popul_filter]\n",
    "\n",
    "#SUBSET, ORDERED BY MAX PRICE OF EACH POPULATION\n",
    "maxprice_f = sbmadrid.sort_values(by='price',ascending=False).loc[sbmadrid['level5']=='Fuenlabrada']\n",
    "maxprice_l = sbmadrid.sort_values(by='price',ascending=False).loc[sbmadrid['level5']=='Leganés']\n",
    "maxprice_g = sbmadrid.sort_values(by='price',ascending=False).loc[sbmadrid['level5']=='Getafe']\n",
    "maxprice_a = sbmadrid.sort_values(by='price',ascending=False).loc[sbmadrid['level5']=='Alcorcón']\n",
    "\n",
    "#FINAL TEXT (TWO POPULATION HAVE NO ADDRESS)\n",
    "print(\"The most expensive houses of each population are:\")\n",
    "print('Fuenlabrada: EUR '+str(maxprice_f['price'][:1].to_string(index=False))+', located in '+maxprice_f['address'][:1].to_string(index=False))\n",
    "print('Leganés: EUR '+str(maxprice_l['price'][:1].to_string(index=False))+', located in '+maxprice_l['address'][:1].to_string(index=False))\n",
    "print('Getafe: EUR '+str(maxprice_g['price'][:1].to_string(index=False))+', located in '+maxprice_g['address'][:1].to_string(index=False))\n",
    "print('Alcorcón: EUR '+str(maxprice_a['price'][:1].to_string(index=False))+', located in '+maxprice_a['address'][:1].to_string(index=False))"
   ]
  },
  {
   "attachments": {},
   "cell_type": "markdown",
   "id": "activated-knight",
   "metadata": {},
   "source": [
    "#### Exercise 18. Normalize the variable of prices for each population and plot the 4 histograms in the same plot (you must use the subset obtained in the question 14) (★★★)\n",
    "\n",
    "For the normalization method you can use the one you consider to, there is not a single correct answer to this question. Print the plot and write in the Markdown cell a brief analysis about the plot\n",
    "\n",
    "Hint: You can help yourself reviewing the multihist demo of Matplotlib"
   ]
  },
  {
   "cell_type": "code",
   "execution_count": 61,
   "id": "civic-meditation",
   "metadata": {},
   "outputs": [
    {
     "data": {
      "image/png": "[encoded data removed]",
      "text/plain": [
       "<Figure size 1200x500 with 1 Axes>"
      ]
     },
     "metadata": {},
     "output_type": "display_data"
    }
   ],
   "source": [
    "import pandas as pd\n",
    "import matplotlib.pyplot as plt\n",
    "import numpy as np\n",
    "\n",
    "\n",
    "#HACERLO DE NUEVO PERO EN 4 GRAFICOS\n",
    "\n",
    "#SET AND SUBSET\n",
    "ds = pd.read_csv('assets/real_estate.csv', sep=';')\n",
    "popul_filter = ds['level5'].isin(['Fuenlabrada','Leganés','Getafe','Alcorcón'])\n",
    "sbmadrid = ds[popul_filter]\n",
    "\n",
    "# FUNCTION TO NORMALIZE\n",
    "def normalize(arr, t_min, t_max):\n",
    "    norm_arr = []\n",
    "    diff = t_max - t_min\n",
    "    diff_arr = max(arr) - min(arr)\n",
    "    for i in arr:\n",
    "        temp = (((i - min(arr))*diff)/diff_arr) + t_min\n",
    "        norm_arr.append(temp)\n",
    "    return norm_arr\n",
    "\n",
    "#NORMALIZATION OF PRICES PER POPULATION\n",
    "nor_price_f = normalize(sbmadrid.loc[sbmadrid['level5']=='Fuenlabrada']['price'].tolist(),0,1)\n",
    "nor_price_l = normalize(sbmadrid.loc[sbmadrid['level5']=='Leganés']['price'].tolist(),0,1)\n",
    "nor_price_g = normalize(sbmadrid.loc[sbmadrid['level5']=='Getafe']['price'].tolist(),0,1)\n",
    "nor_price_a = normalize(sbmadrid.loc[sbmadrid['level5']=='Alcorcón']['price'].tolist(),0,1)\n",
    "\n",
    "#MULTIHIST PLOT\n",
    "colo = ['red', 'blue', 'lime','orange']\n",
    "names = ['Fuenlabrada','Leganés','Getafe','Alcorcón']\n",
    "plt.figure(figsize = (12, 5))\n",
    "plt.hist([nor_price_f,nor_price_l,nor_price_g,nor_price_a],bins = 30, density=True, histtype='bar', label=names)\n",
    "plt.title(\"Normalized prices of houses in the South Belt of Madrid \")\n",
    "plt.xlabel('Price (normalized)')\n",
    "plt.ylabel('Quantity')\n",
    "plt.legend(loc='upper right')\n",
    "plt.show()"
   ]
  },
  {
   "attachments": {},
   "cell_type": "markdown",
   "id": "precise-heavy",
   "metadata": {},
   "source": [
    "#This multihist shows the media of the prices of the four populations. Using normalized prices allow the graph to distribute the results over a wider range than the original prices. Also, it allows us to compare the prices of the houses in the same range of a scale. "
   ]
  },
  {
   "attachments": {},
   "cell_type": "markdown",
   "id": "patent-jonathan",
   "metadata": {},
   "source": [
    "#### Exercise 19. What can you say about the price per square meter (price/m2) between the towns of \"Getafe\" and \"Alcorcón\"? You must use the subset obtained in the question 14 (★★☆)\n",
    "\n",
    "Hint: Create a new column called `pps` (price per square) and then analyse the values"
   ]
  },
  {
   "cell_type": "code",
   "execution_count": 65,
   "id": "initial-liverpool",
   "metadata": {},
   "outputs": [
    {
     "data": {
      "image/png": "[encoded data removed]",
      "text/plain": [
       "<Figure size 1200x500 with 1 Axes>"
      ]
     },
     "metadata": {},
     "output_type": "display_data"
    }
   ],
   "source": [
    "import pandas as pd\n",
    "import matplotlib.pyplot as plt\n",
    "import numpy as np\n",
    "\n",
    "#SET AND SUBSET\n",
    "ds = pd.read_csv('assets/real_estate.csv', sep=';')\n",
    "ds['pps'] = ds['price'] / ds['surface']\n",
    "popul_filter = ds['level5'].isin(['Fuenlabrada','Leganés','Getafe','Alcorcón'])\n",
    "sbmadrid = ds[popul_filter]\n",
    "\n",
    "#VARIABLES OF SQUARE METER\n",
    "pps_g = sbmadrid.loc[sbmadrid['level5']=='Getafe']['pps'].tolist()\n",
    "pps_a = sbmadrid.loc[sbmadrid['level5']=='Alcorcón']['pps'].tolist()\n",
    "\n",
    "#MULTIHIST PLOT\n",
    "colo = ['red', 'blue']\n",
    "names = ['Getafe','Alcorcón']\n",
    "plt.figure(figsize = (12, 5))\n",
    "plt.hist([pps_g,pps_a],bins = 20, density=True, histtype='bar', label=names)\n",
    "plt.title(\"Comparison of price per square meter: Getafe and Alcorcón\")\n",
    "plt.xlabel('Price per square meter')\n",
    "plt.ylabel('Quantity')\n",
    "plt.legend(loc='upper right')\n",
    "plt.show()"
   ]
  },
  {
   "cell_type": "code",
   "execution_count": null,
   "id": "ef095fcc",
   "metadata": {},
   "outputs": [],
   "source": [
    "# A multihist shows that the pps in Getafe is less than Alcorcón. \n",
    "# Moreover, it shows some outliers for 0 value in Getafe."
   ]
  },
  {
   "attachments": {},
   "cell_type": "markdown",
   "id": "enhanced-moscow",
   "metadata": {},
   "source": [
    "#### Exercise 20. Make the same plot for 4 different populations (level5 column) and rearrange them on the same graph? You must use the subset obtained in the question 14 (★★☆) \n",
    "Hint: make a scatter plot of each population using subplots."
   ]
  },
  {
   "cell_type": "code",
   "execution_count": 28,
   "id": "accepting-airfare",
   "metadata": {},
   "outputs": [
    {
     "data": {
      "image/png": "[encoded data removed]",
      "text/plain": [
       "<Figure size 640x480 with 4 Axes>"
      ]
     },
     "metadata": {},
     "output_type": "display_data"
    }
   ],
   "source": [
    "import pandas as pd\n",
    "import matplotlib.pyplot as plt\n",
    "import numpy as np\n",
    "\n",
    "#SET AND SUBSET\n",
    "ds = pd.read_csv('assets/real_estate.csv', sep=';')\n",
    "ds['pps'] = ds['price'] / ds['surface']\n",
    "popul_filter = ds['level5'].isin(['Fuenlabrada','Leganés','Getafe','Alcorcón'])\n",
    "sbmadrid = ds[popul_filter]\n",
    "#VARIABLES FILTERED BY LOCATION (ADJUSTED BY SAME PRICE LIMITS)\n",
    "sub_f = sbmadrid.loc[(sbmadrid['level5']=='Fuenlabrada') & (sbmadrid['price']<500000) & (sbmadrid['price']>0)]\n",
    "sub_l = sbmadrid.loc[(sbmadrid['level5']=='Leganés') & (sbmadrid['price']<500000) & (sbmadrid['price']>0)]\n",
    "sub_g = sbmadrid.loc[(sbmadrid['level5']=='Getafe') & (sbmadrid['price']<500000) & (sbmadrid['price']>0)]\n",
    "sub_a = sbmadrid.loc[(sbmadrid['level5']=='Alcorcón') & (sbmadrid['price']<500000) & (sbmadrid['price']>0)]\n",
    "#SCATTER PLOT\n",
    "fig, axs = plt.subplots(2,2)\n",
    "fig.suptitle('Comparison between surface and price, South belt Madrid')\n",
    "axs[0,0].scatter(sub_g['surface'],sub_g['price'],s=1)\n",
    "axs[0,0].set_title('Getafe')\n",
    "axs[0,1].scatter(sub_a['surface'],sub_a['price'],s=1,color='green')\n",
    "axs[0,1].set_title('Alcorcón')\n",
    "axs[1,0].scatter(sub_f['surface'],sub_f['price'],s=1,color='red')\n",
    "axs[1,0].set_title('Fuenlabrada')\n",
    "axs[1,1].scatter(sub_l['surface'],sub_l['price'],s=1,color='orange')\n",
    "axs[1,1].set_title('Leganés')\n",
    "\n",
    "for ax in axs.flat:\n",
    "    ax.set(xlabel='Surface (mts2)', ylabel='Price (EUR)')\n",
    "for ax in axs.flat:\n",
    "    ax.label_outer()"
   ]
  },
  {
   "attachments": {},
   "cell_type": "markdown",
   "id": "blocked-effects",
   "metadata": {},
   "source": [
    "#### Exercise 21. Make a plot of the coordinates (latitude and longitude columns) of the south belt of Madrid by color of each population (you must use the subset obtained in the question 14) (★★★★)\n",
    "\n",
    "Execute the following cell and then start coding in the next one. You must implement a simple code that transform the coordinates columns in a Python dictionary (add more information if needed) and then add it to the map"
   ]
  },
  {
   "cell_type": "code",
   "execution_count": 3,
   "id": "headed-privacy",
   "metadata": {},
   "outputs": [
    {
     "data": {
      "application/vnd.jupyter.widget-view+json": {
       "model_id": "ed6d4b7d61a44f5a943cccb4bd092fd8",
       "version_major": 2,
       "version_minor": 0
      },
      "text/plain": [
       "Map(center=[60, -2.2], controls=(ZoomControl(options=['position', 'zoom_in_text', 'zoom_in_title', 'zoom_out_t…"
      ]
     },
     "execution_count": 3,
     "metadata": {},
     "output_type": "execute_result"
    }
   ],
   "source": [
    "# Map centred on (60 degrees latitude et -2.2 degrees longitude)\n",
    "# Latitude, longitude\n",
    "map = Map(center = (60, -2.2), zoom = 2, min_zoom = 1, max_zoom = 20, \n",
    "    basemap=basemaps.Stamen.Terrain)\n",
    "\n",
    "from ipyleaflet import Map, basemaps, Marker, AwesomeIcon\n",
    "import pandas as pd\n",
    "# this CSV file contains semicolons instead of comas as separato\n",
    "ds = pd.read_csv('assets/real_estate.csv', sep=';')\n",
    "\n",
    "\n",
    "# Create a map object\n",
    "map = Map(center=(60, -2.2), zoom=2, min_zoom=1, max_zoom=20, basemap=basemaps.Stamen.Terrain)\n",
    "\n",
    "\n",
    "# List of values to subset\n",
    "populations = [\"Fuenlabrada\", \"Leganés\", \"Getafe\", \"Alcorcón\"]\n",
    "\n",
    "\n",
    "# Define a dictionary to map values to marker colors\n",
    "color_dict = {\"Fuenlabrada\": \"blue\", \"Leganés\": \"green\", \"Getafe\": \"red\", \"Alcorcón\": \"purple\"}\n",
    "\n",
    "\n",
    "# Create a boolean mask for filtering\n",
    "mask = ds['level5'].isin(populations)\n",
    "\n",
    "\n",
    "# Apply the mask to the DataFrame to create the subset\n",
    "subset_df = ds[mask]\n",
    "\n",
    "\n",
    "# Filter out rows with 0 latitude and 0 longitude\n",
    "subset_df = subset_df[(subset_df['latitude'] != '0') & (subset_df['longitude'] != '0')]\n",
    "\n",
    "\n",
    "# Use list comprehension to create tuples from latitude and longitude columns\n",
    "lat_list = [float(lat.replace(',', '.')) for lat in subset_df['latitude']]\n",
    "long_list = [float(long.replace(',', '.')) for long in subset_df['longitude']]\n",
    "\n",
    "\n",
    "\n",
    "\n",
    "# Loop through the latitude and longitude lists and add markers to the map\n",
    "for i, (lat, long) in enumerate(zip(lat_list, long_list)):\n",
    "    population = subset_df.iloc[i]['level5']\n",
    "    color = color_dict.get(population, \"black\")\n",
    "    marker = Marker(location=(lat, long), icon=AwesomeIcon(name='house', marker_color=color), draggable=False)\n",
    "    map.add_layer(marker)\n",
    "\n",
    "\n",
    "map\n"
   ]
  }
 ],
 "metadata": {
  "kernelspec": {
   "display_name": "Python 3",
   "language": "python",
   "name": "python3"
  },
  "language_info": {
   "codemirror_mode": {
    "name": "ipython",
    "version": 3
   },
   "file_extension": ".py",
   "mimetype": "text/x-python",
   "name": "python",
   "nbconvert_exporter": "python",
   "pygments_lexer": "ipython3",
   "version": "3.11.4"
  }
 },
 "nbformat": 4,
 "nbformat_minor": 5
}
